{
  "nbformat": 4,
  "nbformat_minor": 0,
  "metadata": {
    "colab": {
      "provenance": []
    },
    "kernelspec": {
      "name": "python3",
      "display_name": "Python 3"
    },
    "language_info": {
      "name": "python"
    }
  },
  "cells": [
    {
      "cell_type": "code",
      "execution_count": 32,
      "metadata": {
        "colab": {
          "base_uri": "https://localhost:8080/"
        },
        "id": "oGsgU_1tcPxh",
        "outputId": "c2415e56-85ad-4c81-bd5d-ddd01ac466b3"
      },
      "outputs": [
        {
          "output_type": "stream",
          "name": "stdout",
          "text": [
            "13 de Picas\n",
            "12 de Picas\n",
            "11 de Picas\n",
            "10 de Picas\n",
            "9 de Picas\n"
          ]
        }
      ],
      "source": [
        "import random #Importamos random\n",
        "class Carta(object):  #Definimos la clase carta\n",
        "  #Constructor de la clase carta\n",
        "  def __init__(self, palo, valor):\n",
        "    self.palo = palo\n",
        "    self.valor = valor\n",
        "  #Método Imprimir\n",
        "  def imprimir(self):\n",
        "    print(\"{} de {}\".format(self.valor, self.palo))\n",
        "\n",
        "\n",
        "class Mazo(object):  #Definimos la clase mazo\n",
        "  #Constructor de la clase mazo\n",
        "  def __init__(self):\n",
        "    self.cartas=[]\n",
        "    self.mazo()\n",
        "  def mazo(self):\n",
        "    for s in [\"Corazones\", \"Diamantes\" , \"Tréboles\",\"Picas\"]:\n",
        "      for v in range(1,14):\n",
        "         self.cartas.append(Carta(s,v))\n",
        "  #Método para mostrar el mazo\n",
        "  def mostrar_mazo(self):\n",
        "    for c in self.cartas:\n",
        "      c.imprimir()\n",
        "  #Método para mezclar el mazo\n",
        "  def mezclar(self):\n",
        "    for i in range(len(self.cartas)-1,0,-1):\n",
        "      r = random.randint(0,i)\n",
        "      self.cartas[i],self.cartas[r]=self.cartas[r],self.cartas[i]\n",
        "  #Método para robar una carta\n",
        "  def robar(self):\n",
        "    return self.cartas.pop()\n",
        "\n",
        "\n",
        "class Jugador(object): #Definimos la clase jugador\n",
        "  #Constructor de la clase jugador\n",
        "  def __init__(self,nombre):\n",
        "    self.mano = []  \n",
        "    self.nombre=nombre\n",
        "  #Método para robar una carta de un mazo\n",
        "  def robar(self,mazo):\n",
        "    self.mano.append(mazo.robar())\n",
        "  #Método para mostrar su mano\n",
        "  def mostrar_mano(self):\n",
        "    for carta in self.mano:\n",
        "      carta.imprimir()\n",
        "\n",
        "baraja=Mazo()\n",
        "Max=Jugador(\"Max\")\n",
        "for i in range(5):\n",
        "  Max.robar(baraja)\n",
        "Max.mostrar_mano()"
      ]
    }
  ]
}